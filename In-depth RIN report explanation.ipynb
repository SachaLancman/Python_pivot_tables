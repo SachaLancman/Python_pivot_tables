{
 "cells": [
  {
   "cell_type": "markdown",
   "id": "b008170d",
   "metadata": {},
   "source": [
    "## In-depth explanation of the RIN report script:\n",
    "\n",
    "- Importing the libraries needed to run the code:"
   ]
  },
  {
   "cell_type": "code",
   "execution_count": null,
   "id": "10307d5f",
   "metadata": {},
   "outputs": [],
   "source": [
    "import pandas as pd\n",
    "import sqlalchemy\n",
    "import win32com.client as win32"
   ]
  },
  {
   "cell_type": "markdown",
   "id": "3e46d04d",
   "metadata": {},
   "source": [
    "- Defining a function, and connecting to the server:"
   ]
  },
  {
   "cell_type": "code",
   "execution_count": null,
   "id": "66372864",
   "metadata": {},
   "outputs": [],
   "source": [
    "def create_RIN_report():\n",
    "    server = \"medissys.bi.dts.corp.local\"\n",
    "    port = 1435\n",
    "    database = \"med_bi\"\n",
    "    driver = \"ODBC Driver 13 for SQL Server\"\n",
    "    # driver = \"SQL Server\"\n",
    "    connection_string = f\"mssql+pyodbc://{server}:{port}/{database}?trusted_connection=yes&driver={driver}\"\n",
    "    engine = sqlalchemy.create_engine(connection_string)"
   ]
  },
  {
   "cell_type": "markdown",
   "id": "0181a859",
   "metadata": {},
   "source": [
    "- Selecting the columns we need from the credit_phy_deal table on the servers:"
   ]
  },
  {
   "cell_type": "code",
   "execution_count": null,
   "id": "8af9f004",
   "metadata": {},
   "outputs": [],
   "source": [
    "    # Get Data From Med_bi\n",
    "    sql_query = \"SELECT id_counter, Linkage_Execution, entity, Deal#, Deal_date, date_expo, Credit_due_date, Credit_pty_trf, Credit_Term, Linkage#, Trader, [sale_due_amt $], \" \\\n",
    "                \"[purchase_due_amt $],[sale_due_amt $] - [purchase_due_amt $] AS [NET], [Pay_risk $ (pty -8d)], [Unit price$], [purchase_gbl_amt $], [sale_gbl_amt $], Quantity \" \\\n",
    "                \"FROM MED_BI.dbo.credit_phy_deal WHERE date_expo = (SELECT MAX(date_expo) FROM MED_BI.dbo.credit_phy_deal)\"\n",
    "    df = pd.read_sql(sql_query, engine)"
   ]
  },
  {
   "cell_type": "markdown",
   "id": "ec7fe33b",
   "metadata": {},
   "source": [
    "- Selecting the columns we need from the COUNTERPARTY table on the servers:"
   ]
  },
  {
   "cell_type": "code",
   "execution_count": null,
   "id": "b4d399cc",
   "metadata": {},
   "outputs": [],
   "source": [
    "    sql_query_2 = \"SELECT id_counter, Name_full, Group_name_full FROM MED_BI.dbo.COUNTERPARTY\"\n",
    "    df_2 = pd.read_sql(sql_query_2, engine)"
   ]
  },
  {
   "cell_type": "markdown",
   "id": "a0a87886",
   "metadata": {},
   "source": [
    "- Importing the RIN market price (https://aegis-energy.com/insights/author/21/marcus-seignon on this website, choose the most recent LCFS & RIN Pricing Report, and paste the link:"
   ]
  },
  {
   "cell_type": "code",
   "execution_count": null,
   "id": "9f7979ab",
   "metadata": {},
   "outputs": [],
   "source": [
    "    # Importing the RINs price data from online and formatting the table\n",
    "    url = 'https://aegis-energy.com/insights/lcfs-rin-pricing-report-through-july-28-2023'\n",
    "\n",
    "    tables = pd.read_html(url)\n",
    "\n",
    "    dfp = tables[3]"
   ]
  },
  {
   "cell_type": "markdown",
   "id": "7a79f870",
   "metadata": {},
   "source": [
    "- Formatting the RIN market price table to make it easily mergeable with the rest:"
   ]
  },
  {
   "cell_type": "code",
   "execution_count": null,
   "id": "e706724f",
   "metadata": {},
   "outputs": [],
   "source": [
    "    dfp = dfp.dropna(axis=0, how='all')\n",
    "\n",
    "    dfp = dfp.T\n",
    "\n",
    "    dfp = dfp.iloc[:, :-2]\n",
    "\n",
    "    dfp = dfp[1:]\n",
    "\n",
    "    dfp = dfp.rename(columns={2: \"RIN2\", 3: \"Price_Rin\"})\n",
    "\n",
    "    dfp['Price_Rin'] = dfp['Price_Rin'].str.replace('$', '')\n",
    "\n",
    "    dfp['Price_Rin'] = dfp['Price_Rin'].astype(float)"
   ]
  },
  {
   "cell_type": "markdown",
   "id": "58d499c1",
   "metadata": {},
   "source": [
    "- Importing the table that gives us the ability to have the RIN numbers (D3, ..., D6). Download here: https://tfs-business.dts.corp.local/CitizenDev/Credit/_git/Houston_Python_Tutorials?path=/Auto/HVs_RINs.xlsm&version=GBmain\n",
    "\n",
    "- Make sure the path is right:"
   ]
  },
  {
   "cell_type": "code",
   "execution_count": null,
   "id": "0b2c2688",
   "metadata": {},
   "outputs": [],
   "source": [
    "    # Importing the data from the HVs_RINs file and formatting the table\n",
    "    df_3 = pd.read_excel(r'H:\\\\Documents and Settings\\\\Personal\\\\HVs_RINs.xlsm')\n",
    "\n",
    "    dfp['RIN2'] = dfp['RIN2'].str.strip()\n",
    "\n",
    "    df_3['RIN2'] = df_3['RIN2'].str.strip()"
   ]
  },
  {
   "cell_type": "markdown",
   "id": "586ff01a",
   "metadata": {},
   "source": [
    "- Merging the last 2 tables imported on the column RIN2:"
   ]
  },
  {
   "cell_type": "code",
   "execution_count": null,
   "id": "71f99b0e",
   "metadata": {},
   "outputs": [],
   "source": [
    "    # Merging the tables\n",
    "    df_3 = pd.merge(df_3, dfp, on='RIN2', how=\"inner\")"
   ]
  },
  {
   "cell_type": "markdown",
   "id": "ad625284",
   "metadata": {},
   "source": [
    "- Adding a Price_Rin (b) (from gallon to barrel):"
   ]
  },
  {
   "cell_type": "code",
   "execution_count": null,
   "id": "b3451b52",
   "metadata": {},
   "outputs": [],
   "source": [
    "    # Create a column for the price of RINs in $/b (1 b = 42 gallons))\n",
    "    df_3['Price_Rin (b)'] = df_3['Price_Rin'] * 42"
   ]
  },
  {
   "cell_type": "markdown",
   "id": "cdf03625",
   "metadata": {},
   "source": [
    "- Merging the rest of the tables together, first on Linkage# and then on id_counter:"
   ]
  },
  {
   "cell_type": "code",
   "execution_count": null,
   "id": "64864468",
   "metadata": {},
   "outputs": [],
   "source": [
    "    # Merging the tables\n",
    "    df_4 = pd.merge(df, df_3, on='Linkage#', how=\"inner\")\n",
    "\n",
    "    df_5 = pd.merge(df_4, df_2, on='id_counter', how=\"inner\")"
   ]
  },
  {
   "cell_type": "markdown",
   "id": "2bf1531b",
   "metadata": {},
   "source": [
    "- Creating a Price_market column (Quantity * Price_Rin (b)).\n",
    "- Creating a MTM_purchase_gbl column (Price_market - purchase_gbl_amt). Will return a blank cell if purchase_gbl_amt = 0.\n",
    "- Creating a MTM_sale_gbl column (sale_gbl_amt - Price_market). Will return a blank cell if sale_gbl_amt = 0.\n",
    "- Add a column Month_pty_trf for the months numbers of credit_pty_trf.\n",
    "- Add a column Year_pty_trf for the years numbers of credit_pty_trf."
   ]
  },
  {
   "cell_type": "code",
   "execution_count": null,
   "id": "27f833c8",
   "metadata": {},
   "outputs": [],
   "source": [
    "    # Create a column for the Price_market, MTM_purchase_gbl, MTM_sale_gbl\n",
    "    df_5['Price_market'] = df_5['Quantity'] * df_5['Price_Rin (b)']\n",
    "\n",
    "    df_5['MTM_purchase_gbl'] = df_5.apply(\n",
    "        lambda row: \"\" if row['purchase_gbl_amt $'] == 0 else row['Price_market'] - row['purchase_gbl_amt $'], axis=1)\n",
    "\n",
    "    df_5['MTM_sale_gbl'] = df_5.apply(\n",
    "        lambda row: \"\" if row['sale_gbl_amt $'] == 0 else row['sale_gbl_amt $'] - row['Price_market'], axis=1)\n",
    "\n",
    "    # Add a column for month names\n",
    "    credit_pty_trf_index = df_5.columns.get_loc(\"Credit_pty_trf\")\n",
    "    df_5.insert(credit_pty_trf_index + 1, \"Month_pty_trf\", pd.to_datetime(df_5['Credit_pty_trf']).dt.month)\n",
    "\n",
    "    # Add a column for year names\n",
    "    credit_pty_trf_index = df_5.columns.get_loc(\"Credit_pty_trf\")\n",
    "    df_5.insert(credit_pty_trf_index + 1, \"Year_pty_trf\", pd.to_datetime(df_5['Credit_pty_trf']).dt.year)"
   ]
  },
  {
   "cell_type": "markdown",
   "id": "7ad26d43",
   "metadata": {},
   "source": [
    "- Saving the table to excel and opening it on excel automatically:"
   ]
  },
  {
   "cell_type": "code",
   "execution_count": null,
   "id": "3b22333e",
   "metadata": {},
   "outputs": [],
   "source": [
    "    # Save table to Excel\n",
    "    df_5.to_excel('auto_rin.xlsx', index=False)\n",
    "\n",
    "    # Create the Excel application object\n",
    "    xlApp = win32.Dispatch('Excel.Application')\n",
    "    xlApp.Visible = True\n",
    "\n",
    "    # Open the workbook\n",
    "    wb = xlApp.Workbooks.Open(r'C:\\Users\\SLANCM\\PycharmProjects\\python_Project_1\\auto_rin.xlsx')\n",
    "    ws_data = wb.Worksheets(1)"
   ]
  },
  {
   "cell_type": "markdown",
   "id": "c0096a0c",
   "metadata": {},
   "source": [
    "- Turning the table into an excel table:"
   ]
  },
  {
   "cell_type": "code",
   "execution_count": null,
   "id": "8856501a",
   "metadata": {},
   "outputs": [],
   "source": [
    "    # Convert the table to a real Excel table\n",
    "    table_range = ws_data.Range(ws_data.Cells(1, 1), ws_data.Cells(df_5.shape[0] + 1, df_5.shape[1]))\n",
    "    table = ws_data.ListObjects.Add(1, table_range, 1, 1)"
   ]
  },
  {
   "cell_type": "markdown",
   "id": "f7a5830e",
   "metadata": {},
   "source": [
    "- Choosing a design style for the table:"
   ]
  },
  {
   "cell_type": "code",
   "execution_count": null,
   "id": "40ca7b81",
   "metadata": {},
   "outputs": [],
   "source": [
    "    # Change the style of the table\n",
    "    table.TableStyle = \"TableStyleMedium10\""
   ]
  },
  {
   "cell_type": "markdown",
   "id": "9a236cd3",
   "metadata": {},
   "source": [
    "- Make sure the currency field are in the correct format:"
   ]
  },
  {
   "cell_type": "code",
   "execution_count": null,
   "id": "a72fdb90",
   "metadata": {},
   "outputs": [],
   "source": [
    "    # Format the currency fields in the first sheet\n",
    "    currency_fields = ['purchase_due_amt $', 'sale_due_amt $', 'NET', 'Pay_risk $ (pty -8d)', 'Price_Rin',\n",
    "                       'Price_Rin (b)', 'Unit price$', 'purchase_gbl_amt $', 'sale_gbl_amt $', 'Price_market',\n",
    "                       'MTM_purchase_gbl', 'MTM_sale_gbl']\n",
    "    for field in currency_fields:\n",
    "        column_index = df_5.columns.get_loc(field) + 1  # Get the column index (1-based)\n",
    "        ws_data.Columns(column_index).NumberFormat = \"_($* #,##0.00_);_($* (#,##0.00);_($* -??_);_(@_)\""
   ]
  },
  {
   "cell_type": "markdown",
   "id": "415b8ac2",
   "metadata": {},
   "source": [
    "- Making the columns wide enough to display all the data:"
   ]
  },
  {
   "cell_type": "code",
   "execution_count": null,
   "id": "048395a3",
   "metadata": {},
   "outputs": [],
   "source": [
    "    # Auto-fit the columns in the first sheet\n",
    "    ws_data.UsedRange.Columns.AutoFit()"
   ]
  },
  {
   "cell_type": "markdown",
   "id": "e68a3a61",
   "metadata": {},
   "source": [
    "- Creating the first pivot table:"
   ]
  },
  {
   "cell_type": "code",
   "execution_count": null,
   "id": "5cb419d7",
   "metadata": {},
   "outputs": [],
   "source": [
    "    # Clear pivot tables on the Report tab\n",
    "    def clear_pts(ws):\n",
    "        for pt in ws.PivotTables():\n",
    "            pt.TableRange2.Clear()\n",
    "\n",
    "    # Create the first pivot table\n",
    "    ws_report1 = wb.Worksheets.Add()\n",
    "    clear_pts(ws_report1)\n",
    "    pt_cache1 = wb.PivotCaches().Create(1, ws_data.Range(\"A1\").CurrentRegion)\n",
    "    pt1 = pt_cache1.CreatePivotTable(ws_report1.Range(\"B3\"), \"PivotTable1\")"
   ]
  },
  {
   "cell_type": "markdown",
   "id": "0a8c9c63",
   "metadata": {},
   "source": [
    "- The fields settings. You could change the title of the fields, but I kept them the same for clarity:"
   ]
  },
  {
   "cell_type": "code",
   "execution_count": null,
   "id": "bd6caa44",
   "metadata": {},
   "outputs": [],
   "source": [
    "    # Insert pivot table field settings for the first pivot table\n",
    "    def insert_pt_field_set1(pt):\n",
    "        field_filters = {}\n",
    "        field_filters['Year_and_RIN2'] = pt.PivotFields(\"Year_and_RIN2\")\n",
    "        field_filters['Credit_pty_trf'] = pt.PivotFields(\"Credit_pty_trf\")\n",
    "        field_filters['RIN2'] = pt.PivotFields(\"RIN2\")\n",
    "        field_filters['Credit_Term'] = pt.PivotFields(\"Credit_Term\")\n",
    "        field_filters['Trader'] = pt.PivotFields(\"Trader\")\n",
    "        field_filters['Month_pty_trf'] = pt.PivotFields(\"Month_pty_trf\")\n",
    "        field_filters['Year_pty_trf'] = pt.PivotFields(\"Year_pty_trf\")\n",
    "\n",
    "        field_rows = {}\n",
    "        field_rows['Name_full'] = pt.PivotFields(\"Name_full\")\n",
    "        field_rows['Deal#'] = pt.PivotFields(\"Deal#\")\n",
    "\n",
    "        field_values = {}\n",
    "        field_values['sale_due_amt $'] = pt.PivotFields(\"sale_due_amt $\")\n",
    "        field_values['purchase_due_amt $'] = pt.PivotFields(\"purchase_due_amt $\")\n",
    "        field_values['NET'] = pt.PivotFields(\"NET\")\n",
    "        field_values['Pay_risk $ (pty -8d)'] = pt.PivotFields(\"Pay_risk $ (pty -8d)\")"
   ]
  },
  {
   "cell_type": "markdown",
   "id": "8baf1a4a",
   "metadata": {},
   "source": [
    "- Inserting the filters (orientation = 3), rows (orientation = 1) and values (orientation = 4) fields. \n",
    "- In the value fields, -4157 is the sum function. You could choose max, min, median, average, ... with a different number code. The format is also set as currency format for the value fields."
   ]
  },
  {
   "cell_type": "code",
   "execution_count": null,
   "id": "57854e0b",
   "metadata": {},
   "outputs": [],
   "source": [
    "        # Insert filter fields\n",
    "        field_filters['RIN2'].Orientation = 3  # xlPageField\n",
    "        field_filters['RIN2'].Position = 1\n",
    "\n",
    "        field_filters['Credit_pty_trf'].Orientation = 3  # xlPageField\n",
    "        field_filters['Credit_pty_trf'].Position = 2\n",
    "\n",
    "        field_filters['Year_and_RIN2'].Orientation = 3  # xlPageField\n",
    "        field_filters['Year_and_RIN2'].Position = 3\n",
    "\n",
    "        field_filters['Credit_Term'].Orientation = 3  # xlPageField\n",
    "        field_filters['Credit_Term'].Position = 4\n",
    "\n",
    "        field_filters['Trader'].Orientation = 3  # xlPageField\n",
    "        field_filters['Trader'].Position = 5\n",
    "\n",
    "        field_filters['Month_pty_trf'].Orientation = 3  # xlPageField\n",
    "        field_filters['Month_pty_trf'].Position = 6\n",
    "\n",
    "        field_filters['Year_pty_trf'].Orientation = 3  # xlPageField\n",
    "        field_filters['Year_pty_trf'].Position = 7\n",
    "\n",
    "        # Insert row field\n",
    "        field_rows['Name_full'].Orientation = 1\n",
    "        field_rows['Name_full'].Position = 1\n",
    "\n",
    "        field_rows['Deal#'].Orientation = 1\n",
    "        field_rows['Deal#'].Position = 2\n",
    "\n",
    "        # Insert values field\n",
    "        field_values['sale_due_amt $'].Orientation = 4\n",
    "        field_values['sale_due_amt $'].Function = -4157  # xlSum\n",
    "        field_values['sale_due_amt $'].NumberFormat = \"_($* #,##0.00_);_($* (#,##0.00);_($* -??_);_(@_)\"\n",
    "\n",
    "        field_values['purchase_due_amt $'].Orientation = 4\n",
    "        field_values['purchase_due_amt $'].Function = -4157\n",
    "        field_values['purchase_due_amt $'].NumberFormat = \"_($* #,##0.00_);_($* (#,##0.00);_($* -??_);_(@_)\"\n",
    "\n",
    "        field_values['NET'].Orientation = 4\n",
    "        field_values['NET'].Function = -4157  # xlSum\n",
    "        field_values['NET'].NumberFormat = \"_($* #,##0.00_);_($* (#,##0.00);_($* -??_);_(@_)\"\n",
    "\n",
    "        field_values['Pay_risk $ (pty -8d)'].Orientation = 4\n",
    "        field_values['Pay_risk $ (pty -8d)'].Function = -4157  # xlSum\n",
    "        field_values['Pay_risk $ (pty -8d)'].NumberFormat = \"_($* #,##0.00_);_($* (#,##0.00);_($* -??_);_(@_)\"\n",
    "\n",
    "    insert_pt_field_set1(pt1)"
   ]
  },
  {
   "cell_type": "markdown",
   "id": "e174bde2",
   "metadata": {},
   "source": [
    "- Changing the pivot table style:"
   ]
  },
  {
   "cell_type": "code",
   "execution_count": null,
   "id": "ae20712a",
   "metadata": {},
   "outputs": [],
   "source": [
    "    # Change pivot table style for the first pivot table\n",
    "    pt1.TableStyle2 = \"PivotStyleDark3\""
   ]
  },
  {
   "cell_type": "markdown",
   "id": "de0f53b6",
   "metadata": {},
   "source": [
    "- Adjusting the widths of the columns D and E so it can fit all the data:"
   ]
  },
  {
   "cell_type": "code",
   "execution_count": null,
   "id": "b07cf4c3",
   "metadata": {},
   "outputs": [],
   "source": [
    "    # Adjust column widths for the first pivot table\n",
    "    ws_report1.Columns(\"D:E\").ColumnWidth = 30"
   ]
  },
  {
   "cell_type": "markdown",
   "id": "1c0b8ce0",
   "metadata": {},
   "source": [
    "- Creating 3 slicers for Month_pty_trf, Year_pty_trf and Year_and_RIN2. You can choose the position of the slicers with hight, left and top as well as the style of the slicer with slicer.Style:"
   ]
  },
  {
   "cell_type": "code",
   "execution_count": null,
   "id": "52a30efc",
   "metadata": {},
   "outputs": [],
   "source": [
    "    # Create a slicer for \"Month_pty_trf\"\n",
    "    slicer_cache = wb.SlicerCaches.Add(pt1, \"Month_pty_trf\")\n",
    "    slicer = slicer_cache.Slicers.Add(ws_report1)\n",
    "    slicer.Style = \"SlicerStyleLight2\"\n",
    "    slicer.Height = 200\n",
    "    slicer.Left = 800\n",
    "    slicer.Top = 110\n",
    "\n",
    "    # Create a slicer for \"Year_pty_trf\"\n",
    "    slicer_cache = wb.SlicerCaches.Add(pt1, \"Year_pty_trf\")\n",
    "    slicer = slicer_cache.Slicers.Add(ws_report1)\n",
    "    slicer.Style = \"SlicerStyleLight2\"\n",
    "    slicer.Height = 95\n",
    "    slicer.Left = 800\n",
    "    slicer.Top = 315\n",
    "\n",
    "    # Create a slicer for \"Year_and_RIN2\"\n",
    "    slicer_cache = wb.SlicerCaches.Add(pt1, \"Year_and_RIN2\")\n",
    "    slicer = slicer_cache.Slicers.Add(ws_report1)\n",
    "    slicer.Style = \"SlicerStyleLight2\"\n",
    "    slicer.Height = 200\n",
    "    slicer.Left = 800\n",
    "    slicer.Top = 415"
   ]
  },
  {
   "cell_type": "markdown",
   "id": "4376ffd1",
   "metadata": {},
   "source": [
    "- The process of interting pivot tables is exactly the same for the 2nd, 3rd and 4th pivot tabes. The only thing that changes is the value/filter/row fields:"
   ]
  },
  {
   "cell_type": "code",
   "execution_count": null,
   "id": "4dcb25f1",
   "metadata": {},
   "outputs": [],
   "source": [
    "    # Create the second pivot table\n",
    "    ws_report2 = wb.Worksheets.Add()\n",
    "    clear_pts(ws_report2)\n",
    "    pt_cache2 = wb.PivotCaches().Create(1, ws_data.Range(\"A1\").CurrentRegion)\n",
    "    pt2 = pt_cache2.CreatePivotTable(ws_report2.Range(\"B3\"), \"PivotTable2\")\n",
    "\n",
    "    # Insert pivot table field settings for the second pivot table\n",
    "    def insert_pt_field_set2(pt):\n",
    "        field_filters = {}\n",
    "        field_filters['RIN2'] = pt.PivotFields(\"RIN2\")\n",
    "        field_filters['Credit_pty_trf'] = pt.PivotFields(\"Credit_pty_trf\")\n",
    "        field_filters['Credit_Term'] = pt.PivotFields(\"Credit_Term\")\n",
    "        field_filters['Trader'] = pt.PivotFields(\"Trader\")\n",
    "        field_filters['Month_pty_trf'] = pt.PivotFields(\"Month_pty_trf\")\n",
    "        field_filters['Year_pty_trf'] = pt.PivotFields(\"Year_pty_trf\")\n",
    "\n",
    "        field_rows = {}\n",
    "        field_rows['Name_full'] = pt.PivotFields(\"Name_full\")\n",
    "        field_rows['Deal#'] = pt.PivotFields(\"Deal#\")\n",
    "        field_rows['Year_and_RIN2'] = pt.PivotFields(\"Year_and_RIN2\")\n",
    "\n",
    "        field_values = {}\n",
    "        field_values['sale_due_amt $'] = pt.PivotFields(\"sale_due_amt $\")\n",
    "        field_values['purchase_due_amt $'] = pt.PivotFields(\"purchase_due_amt $\")\n",
    "        field_values['NET'] = pt.PivotFields(\"NET\")\n",
    "        field_values['Pay_risk $ (pty -8d)'] = pt.PivotFields(\"Pay_risk $ (pty -8d)\")\n",
    "\n",
    "        # Insert filter fields\n",
    "        field_filters['RIN2'].Orientation = 3  # xlPageField\n",
    "        field_filters['RIN2'].Position = 1\n",
    "\n",
    "        field_filters['Credit_pty_trf'].Orientation = 3  # xlPageField\n",
    "        field_filters['Credit_pty_trf'].Position = 2\n",
    "\n",
    "        field_filters['Credit_Term'].Orientation = 3  # xlPageField\n",
    "        field_filters['Credit_Term'].Position = 3\n",
    "\n",
    "        field_filters['Trader'].Orientation = 3  # xlPageField\n",
    "        field_filters['Trader'].Position = 4\n",
    "\n",
    "        field_filters['Month_pty_trf'].Orientation = 3  # xlPageField\n",
    "        field_filters['Month_pty_trf'].Position = 5\n",
    "\n",
    "        field_filters['Year_pty_trf'].Orientation = 3  # xlPageField\n",
    "        field_filters['Year_pty_trf'].Position = 6\n",
    "\n",
    "        # Insert row field\n",
    "        field_rows['Name_full'].Orientation = 1\n",
    "        field_rows['Name_full'].Position = 1\n",
    "\n",
    "        field_rows['Deal#'].Orientation = 1\n",
    "        field_rows['Deal#'].Position = 2\n",
    "\n",
    "        field_rows['Year_and_RIN2'].Orientation = 1\n",
    "        field_rows['Year_and_RIN2'].Position = 3\n",
    "\n",
    "        # Insert values field\n",
    "        field_values['sale_due_amt $'].Orientation = 4\n",
    "        field_values['sale_due_amt $'].Function = -4157  # xlSum\n",
    "        field_values['sale_due_amt $'].NumberFormat = \"_($* #,##0.00_);_($* (#,##0.00);_($* -??_);_(@_)\"\n",
    "\n",
    "        field_values['purchase_due_amt $'].Orientation = 4\n",
    "        field_values['purchase_due_amt $'].Function = -4157  # xlSum\n",
    "        field_values['purchase_due_amt $'].NumberFormat = \"_($* #,##0.00_);_($* (#,##0.00);_($* -??_);_(@_)\"\n",
    "\n",
    "        field_values['NET'].Orientation = 4\n",
    "        field_values['NET'].Function = -4157  # xlSum\n",
    "        field_values['NET'].NumberFormat = \"_($* #,##0.00_);_($* (#,##0.00);_($* -??_);_(@_)\"\n",
    "\n",
    "        field_values['Pay_risk $ (pty -8d)'].Orientation = 4\n",
    "        field_values['Pay_risk $ (pty -8d)'].Function = -4157  # xlSum\n",
    "        field_values['Pay_risk $ (pty -8d)'].NumberFormat = \"_($* #,##0.00_);_($* (#,##0.00);_($* -??_);_(@_)\"\n",
    "\n",
    "    insert_pt_field_set2(pt2)\n",
    "\n",
    "    # Change pivot table style for the second pivot table\n",
    "    pt2.TableStyle2 = \"PivotStyleDark3\"\n",
    "\n",
    "    # Adjust column widths for the second pivot table\n",
    "    ws_report2.Columns(\"D:E\").ColumnWidth = 30\n",
    "\n",
    "    # Create a slicer for \"Month_pty_trf\"\n",
    "    slicer_cache = wb.SlicerCaches.Add(pt2, \"Month_pty_trf\")\n",
    "    slicer = slicer_cache.Slicers.Add(ws_report2)\n",
    "    slicer.Style = \"SlicerStyleLight2\"\n",
    "    slicer.Height = 200\n",
    "    slicer.Left = 800\n",
    "    slicer.Top = 110\n",
    "\n",
    "    # Create a slicer for \"Year_pty_trf\"\n",
    "    slicer_cache = wb.SlicerCaches.Add(pt2, \"Year_pty_trf\")\n",
    "    slicer = slicer_cache.Slicers.Add(ws_report2)\n",
    "    slicer.Style = \"SlicerStyleLight2\"\n",
    "    slicer.Height = 95\n",
    "    slicer.Left = 800\n",
    "    slicer.Top = 315\n",
    "\n",
    "    # Create a slicer for \"Year_and_RIN2\"\n",
    "    slicer_cache = wb.SlicerCaches.Add(pt2, \"Year_and_RIN2\")\n",
    "    slicer = slicer_cache.Slicers.Add(ws_report2)\n",
    "    slicer.Style = \"SlicerStyleLight2\"\n",
    "    slicer.Height = 200\n",
    "    slicer.Left = 800\n",
    "    slicer.Top = 415\n",
    "\n",
    "    # Create the third pivot table\n",
    "    ws_report3 = wb.Worksheets.Add()\n",
    "    clear_pts(ws_report3)\n",
    "    pt_cache3 = wb.PivotCaches().Create(1, ws_data.Range(\"A1\").CurrentRegion)\n",
    "    pt3 = pt_cache3.CreatePivotTable(ws_report3.Range(\"B3\"), \"PivotTable2\")\n",
    "\n",
    "    # Insert pivot table field settings for the third pivot table\n",
    "    def insert_pt_field_set3(pt):\n",
    "        field_filters = {}\n",
    "        field_filters['RIN2'] = pt.PivotFields(\"RIN2\")\n",
    "        field_filters['Credit_pty_trf'] = pt.PivotFields(\"Credit_pty_trf\")\n",
    "        field_filters['Credit_Term'] = pt.PivotFields(\"Credit_Term\")\n",
    "        field_filters['Trader'] = pt.PivotFields(\"Trader\")\n",
    "        field_filters['Month_pty_trf'] = pt.PivotFields(\"Month_pty_trf\")\n",
    "        field_filters['Year_pty_trf'] = pt.PivotFields(\"Year_pty_trf\")\n",
    "\n",
    "        field_rows = {}\n",
    "        field_rows['Name_full'] = pt.PivotFields(\"Name_full\")\n",
    "\n",
    "        field_values = {}\n",
    "        field_values['sale_due_amt $'] = pt.PivotFields(\"sale_due_amt $\")\n",
    "        field_values['purchase_due_amt $'] = pt.PivotFields(\"purchase_due_amt $\")\n",
    "        field_values['NET'] = pt.PivotFields(\"NET\")\n",
    "        field_values['Pay_risk $ (pty -8d)'] = pt.PivotFields(\"Pay_risk $ (pty -8d)\")\n",
    "\n",
    "        # Insert filter fields\n",
    "        field_filters['RIN2'].Orientation = 3  # xlPageField\n",
    "        field_filters['RIN2'].Position = 1\n",
    "\n",
    "        field_filters['Credit_pty_trf'].Orientation = 3  # xlPageField\n",
    "        field_filters['Credit_pty_trf'].Position = 2\n",
    "\n",
    "        field_filters['Credit_Term'].Orientation = 3  # xlPageField\n",
    "        field_filters['Credit_Term'].Position = 3\n",
    "\n",
    "        field_filters['Trader'].Orientation = 3  # xlPageField\n",
    "        field_filters['Trader'].Position = 4\n",
    "\n",
    "        field_filters['Month_pty_trf'].Orientation = 3  # xlPageField\n",
    "        field_filters['Month_pty_trf'].Position = 5\n",
    "\n",
    "        field_filters['Year_pty_trf'].Orientation = 3  # xlPageField\n",
    "        field_filters['Year_pty_trf'].Position = 6\n",
    "\n",
    "        # Insert row field\n",
    "        field_rows['Name_full'].Orientation = 1\n",
    "        field_rows['Name_full'].Position = 1\n",
    "\n",
    "        # Insert values field\n",
    "        field_values['sale_due_amt $'].Orientation = 4\n",
    "        field_values['sale_due_amt $'].Function = -4157  # xlSum\n",
    "        field_values['sale_due_amt $'].NumberFormat = \"_($* #,##0.00_);_($* (#,##0.00);_($* -??_);_(@_)\"\n",
    "\n",
    "        field_values['purchase_due_amt $'].Orientation = 4\n",
    "        field_values['purchase_due_amt $'].Function = -4157  # xlSum\n",
    "        field_values['purchase_due_amt $'].NumberFormat = \"_($* #,##0.00_);_($* (#,##0.00);_($* -??_);_(@_)\"\n",
    "\n",
    "        field_values['NET'].Orientation = 4\n",
    "        field_values['NET'].Function = -4157  # xlSum\n",
    "        field_values['NET'].NumberFormat = \"_($* #,##0.00_);_($* (#,##0.00);_($* -??_);_(@_)\"\n",
    "\n",
    "        field_values['Pay_risk $ (pty -8d)'].Orientation = 4\n",
    "        field_values['Pay_risk $ (pty -8d)'].Function = -4157  # xlSum\n",
    "        field_values['Pay_risk $ (pty -8d)'].NumberFormat = \"_($* #,##0.00_);_($* (#,##0.00);_($* -??_);_(@_)\"\n",
    "\n",
    "    insert_pt_field_set3(pt3)\n",
    "\n",
    "    # Change pivot table style for the third pivot table\n",
    "    pt3.TableStyle2 = \"PivotStyleDark3\"\n",
    "\n",
    "    # Adjust column widths for the third pivot table\n",
    "    ws_report3.Columns(\"D:E\").ColumnWidth = 30\n",
    "\n",
    "    # Create a slicer for \"Month_pty_trf\"\n",
    "    slicer_cache = wb.SlicerCaches.Add(pt3, \"Month_pty_trf\")\n",
    "    slicer = slicer_cache.Slicers.Add(ws_report3)\n",
    "    slicer.Style = \"SlicerStyleLight2\"\n",
    "    slicer.Height = 200\n",
    "    slicer.Left = 800\n",
    "    slicer.Top = 110\n",
    "\n",
    "    # Create a slicer for \"Year_pty_trf\"\n",
    "    slicer_cache = wb.SlicerCaches.Add(pt3, \"Year_pty_trf\")\n",
    "    slicer = slicer_cache.Slicers.Add(ws_report3)\n",
    "    slicer.Style = \"SlicerStyleLight2\"\n",
    "    slicer.Height = 95\n",
    "    slicer.Left = 800\n",
    "    slicer.Top = 315\n",
    "\n",
    "    # Create a slicer for \"Year_and_RIN2\"\n",
    "    slicer_cache = wb.SlicerCaches.Add(pt3, \"Year_and_RIN2\")\n",
    "    slicer = slicer_cache.Slicers.Add(ws_report3)\n",
    "    slicer.Style = \"SlicerStyleLight2\"\n",
    "    slicer.Height = 200\n",
    "    slicer.Left = 800\n",
    "    slicer.Top = 415\n",
    "\n",
    "    # Create the fourth pivot table\n",
    "    ws_report4 = wb.Worksheets.Add()\n",
    "    clear_pts(ws_report4)\n",
    "    pt_cache4 = wb.PivotCaches().Create(1, ws_data.Range(\"A1\").CurrentRegion)\n",
    "    pt4 = pt_cache4.CreatePivotTable(ws_report4.Range(\"B3\"), \"PivotTable2\")\n",
    "\n",
    "    # Insert pivot table field settings for the third pivot table\n",
    "    def insert_pt_field_set4(pt):\n",
    "        field_filters = {}\n",
    "        field_filters['RIN2'] = pt.PivotFields(\"RIN2\")\n",
    "        field_filters['Credit_pty_trf'] = pt.PivotFields(\"Credit_pty_trf\")\n",
    "        field_filters['Credit_Term'] = pt.PivotFields(\"Credit_Term\")\n",
    "        field_filters['Trader'] = pt.PivotFields(\"Trader\")\n",
    "        field_filters['Month_pty_trf'] = pt.PivotFields(\"Month_pty_trf\")\n",
    "        field_filters['Year_pty_trf'] = pt.PivotFields(\"Year_pty_trf\")\n",
    "\n",
    "        field_rows = {}\n",
    "        field_rows['Name_full'] = pt.PivotFields(\"Name_full\")\n",
    "        field_rows['Deal#'] = pt.PivotFields(\"Deal#\")\n",
    "\n",
    "        field_values = {}\n",
    "        field_values['sale_gbl_amt $'] = pt.PivotFields(\"sale_gbl_amt $\")\n",
    "        field_values['purchase_gbl_amt $'] = pt.PivotFields(\"purchase_gbl_amt $\")\n",
    "        field_values['Price_market'] = pt.PivotFields(\"Price_market\")\n",
    "        field_values['MTM_purchase_gbl'] = pt.PivotFields(\"MTM_purchase_gbl\")\n",
    "        field_values['MTM_sale_gbl'] = pt.PivotFields(\"MTM_sale_gbl\")\n",
    "\n",
    "        # Insert filter fields\n",
    "        field_filters['RIN2'].Orientation = 3  # xlPageField\n",
    "        field_filters['RIN2'].Position = 1\n",
    "\n",
    "        field_filters['Credit_pty_trf'].Orientation = 3  # xlPageField\n",
    "        field_filters['Credit_pty_trf'].Position = 2\n",
    "\n",
    "        field_filters['Credit_Term'].Orientation = 3  # xlPageField\n",
    "        field_filters['Credit_Term'].Position = 3\n",
    "\n",
    "        field_filters['Trader'].Orientation = 3  # xlPageField\n",
    "        field_filters['Trader'].Position = 4\n",
    "\n",
    "        field_filters['Month_pty_trf'].Orientation = 3  # xlPageField\n",
    "        field_filters['Month_pty_trf'].Position = 5\n",
    "\n",
    "        field_filters['Year_pty_trf'].Orientation = 3  # xlPageField\n",
    "        field_filters['Year_pty_trf'].Position = 6\n",
    "\n",
    "        # Insert row field\n",
    "        field_rows['Name_full'].Orientation = 1\n",
    "        field_rows['Name_full'].Position = 1\n",
    "\n",
    "        field_rows['Deal#'].Orientation = 1\n",
    "        field_rows['Deal#'].Position = 2\n",
    "\n",
    "        # Insert values field\n",
    "        field_values['sale_gbl_amt $'].Orientation = 4\n",
    "        field_values['sale_gbl_amt $'].Function = -4157  # xlSum\n",
    "        field_values['sale_gbl_amt $'].NumberFormat = \"_($* #,##0.00_);_($* (#,##0.00);_($* -??_);_(@_)\"\n",
    "\n",
    "        field_values['Price_market'].Orientation = 4\n",
    "        field_values['Price_market'].Function = -4157  # xlSum\n",
    "        field_values['Price_market'].NumberFormat = \"_($* #,##0.00_);_($* (#,##0.00);_($* -??_);_(@_)\"\n",
    "\n",
    "        field_values['purchase_gbl_amt $'].Orientation = 4\n",
    "        field_values['purchase_gbl_amt $'].Function = -4157  # xlSum\n",
    "        field_values['purchase_gbl_amt $'].NumberFormat = \"_($* #,##0.00_);_($* (#,##0.00);_($* -??_);_(@_)\"\n",
    "\n",
    "        field_values['MTM_purchase_gbl'].Orientation = 4\n",
    "        field_values['MTM_purchase_gbl'].Function = -4157  # xlSum\n",
    "        field_values['MTM_purchase_gbl'].NumberFormat = \"_($* #,##0.00_);_($* (#,##0.00);_($* -??_);_(@_)\"\n",
    "\n",
    "        field_values['MTM_sale_gbl'].Orientation = 4\n",
    "        field_values['MTM_sale_gbl'].Function = -4157  # xlSum\n",
    "        field_values['MTM_sale_gbl'].NumberFormat = \"_($* #,##0.00_);_($* (#,##0.00);_($* -??_);_(@_)\"\n",
    "\n",
    "    insert_pt_field_set4(pt4)\n",
    "\n",
    "    # Change pivot table style for the fourth pivot table\n",
    "    pt4.TableStyle2 = \"PivotStyleDark8\"\n",
    "\n",
    "    # Adjust column widths for the fourth pivot table\n",
    "    ws_report4.Columns(\"D:E\").ColumnWidth = 30\n",
    "\n",
    "    # Create a slicer for \"Month_pty_trf\"\n",
    "    slicer_cache = wb.SlicerCaches.Add(pt4, \"Month_pty_trf\")\n",
    "    slicer = slicer_cache.Slicers.Add(ws_report4)\n",
    "    slicer.Style = \"SlicerStyleOther1\"\n",
    "    slicer.Height = 200\n",
    "    slicer.Left = 925\n",
    "    slicer.Top = 110\n",
    "\n",
    "    # Create a slicer for \"Year_pty_trf\"\n",
    "    slicer_cache = wb.SlicerCaches.Add(pt4, \"Year_pty_trf\")\n",
    "    slicer = slicer_cache.Slicers.Add(ws_report4)\n",
    "    slicer.Style = \"SlicerStyleOther1\"\n",
    "    slicer.Height = 95\n",
    "    slicer.Left = 925\n",
    "    slicer.Top = 315\n",
    "\n",
    "    # Create a slicer for \"Year_and_RIN2\"\n",
    "    slicer_cache = wb.SlicerCaches.Add(pt4, \"RIN2\")\n",
    "    slicer = slicer_cache.Slicers.Add(ws_report4)\n",
    "    slicer.Style = \"SlicerStyleOther1\"\n",
    "    slicer.Height = 120\n",
    "    slicer.Left = 925\n",
    "    slicer.Top = 415\n"
   ]
  },
  {
   "cell_type": "markdown",
   "id": "93fb4d67",
   "metadata": {},
   "source": [
    "- Renaming the sheets: "
   ]
  },
  {
   "cell_type": "code",
   "execution_count": null,
   "id": "0015d98c",
   "metadata": {},
   "outputs": [],
   "source": [
    "    # Rename the sheets\n",
    "    ws_data.Name = 'table'\n",
    "    ws_report1.name = 'counterpaties + deal#'\n",
    "    ws_report2.name = 'counterpaties + deal# + RINs'\n",
    "    ws_report3.name = 'counterpaties'\n",
    "    ws_report4.name = 'MTM'"
   ]
  },
  {
   "cell_type": "markdown",
   "id": "aabf10f0",
   "metadata": {},
   "source": [
    "- On the MTM_sale_gbl and MTM_purchase_gbl columns, starting on the 10th row, if the value is negative, red, if it is positive, green. "
   ]
  },
  {
   "cell_type": "code",
   "execution_count": null,
   "id": "5f1c5ebc",
   "metadata": {},
   "outputs": [],
   "source": [
    "# Get the range of the \"MTM_purchase_gbl\" and \"MTM_sale_gbl\" columns\n",
    "    mtm_purchase_gbl_range = ws_report4.Range(\"F10:F\" + str(ws_report4.Cells(ws_report4.Rows.Count, \"F\").End(-4162).Row))\n",
    "    mtm_sale_gbl_range = ws_report4.Range(\"G10:G\" + str(ws_report4.Cells(ws_report4.Rows.Count, \"G\").End(-4162).Row))\n",
    "\n",
    "    # Apply conditional formatting to \"MTM_purchase_gbl\" column\n",
    "    mtm_purchase_gbl_range.FormatConditions.Add(Type=1, Operator=5, Formula1=\"5\")\n",
    "    mtm_purchase_gbl_range.FormatConditions(mtm_purchase_gbl_range.FormatConditions.Count).SetFirstPriority()\n",
    "    mtm_purchase_gbl_range.FormatConditions(1).Interior.Color = 144238260  # Green\n",
    "\n",
    "    mtm_purchase_gbl_range.FormatConditions.Add(Type=1, Operator=6, Formula1=\"-5\")\n",
    "    mtm_purchase_gbl_range.FormatConditions(mtm_purchase_gbl_range.FormatConditions.Count).SetFirstPriority()\n",
    "    mtm_purchase_gbl_range.FormatConditions(1).Interior.Color = 13421823  # Red\n",
    "\n",
    "    # Apply conditional formatting to \"MTM_sale_gbl\" column\n",
    "    mtm_sale_gbl_range.FormatConditions.Add(Type=1, Operator=5, Formula1=\"5\")\n",
    "    mtm_sale_gbl_range.FormatConditions(mtm_sale_gbl_range.FormatConditions.Count).SetFirstPriority()\n",
    "    mtm_sale_gbl_range.FormatConditions(1).Interior.Color = 144238260  # Green\n",
    "\n",
    "    mtm_sale_gbl_range.FormatConditions.Add(Type=1, Operator=6, Formula1=\"-5\")\n",
    "    mtm_sale_gbl_range.FormatConditions(mtm_sale_gbl_range.FormatConditions.Count).SetFirstPriority()\n",
    "    mtm_sale_gbl_range.FormatConditions(1).Interior.Color = 13421823  # Red"
   ]
  },
  {
   "cell_type": "markdown",
   "id": "17ae71d7",
   "metadata": {},
   "source": [
    "- Saves the excel file automatically and then calls the functions to run the script:"
   ]
  },
  {
   "cell_type": "code",
   "execution_count": null,
   "id": "3be3b9be",
   "metadata": {},
   "outputs": [],
   "source": [
    "    # Save the modified workbook\n",
    "    wb.Save()\n",
    "\n",
    "    print(\"Tables imported and pivot tables created in 'auto_rin.xlsx'\")\n",
    "\n",
    "\n",
    "create_RIN_report()"
   ]
  },
  {
   "cell_type": "markdown",
   "id": "273f5eff",
   "metadata": {},
   "source": [
    "- You could run this script by writting this in a new Py file:"
   ]
  },
  {
   "cell_type": "code",
   "execution_count": null,
   "id": "19743b35",
   "metadata": {},
   "outputs": [],
   "source": [
    "from name_of_the_Py_file_where_the_script_is_located import create_RIN_report\n",
    "\n",
    "\n",
    "create_RIN_report()"
   ]
  }
 ],
 "metadata": {
  "kernelspec": {
   "display_name": "Python 3 (ipykernel)",
   "language": "python",
   "name": "python3"
  },
  "language_info": {
   "codemirror_mode": {
    "name": "ipython",
    "version": 3
   },
   "file_extension": ".py",
   "mimetype": "text/x-python",
   "name": "python",
   "nbconvert_exporter": "python",
   "pygments_lexer": "ipython3",
   "version": "3.10.9"
  }
 },
 "nbformat": 4,
 "nbformat_minor": 5
}
